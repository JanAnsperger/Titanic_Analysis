{
 "cells": [
  {
   "cell_type": "code",
   "execution_count": 2,
   "metadata": {},
   "outputs": [
    {
     "name": "stdout",
     "output_type": "stream",
     "text": [
      "The autoreload extension is already loaded. To reload it, use:\n",
      "  %reload_ext autoreload\n",
      "Spalten im Datensatz: ['survived', 'pclass', 'age', 'sibsp', 'parch', 'fare', 'who', 'embark_town']\n",
      "     survived  pclass   age  sibsp  parch     fare    who  embark_town\n",
      "0           0       3  22.0      1      0   7.2500    man  Southampton\n",
      "1           1       1  38.0      1      0  71.2833  woman    Cherbourg\n",
      "2           1       3  26.0      0      0   7.9250  woman  Southampton\n",
      "3           1       1  35.0      1      0  53.1000  woman  Southampton\n",
      "4           0       3  35.0      0      0   8.0500    man  Southampton\n",
      "..        ...     ...   ...    ...    ...      ...    ...          ...\n",
      "886         0       2  27.0      0      0  13.0000    man  Southampton\n",
      "887         1       1  19.0      0      0  30.0000  woman  Southampton\n",
      "888         0       3  28.0      1      2  23.4500  woman  Southampton\n",
      "889         1       1  26.0      0      0  30.0000    man    Cherbourg\n",
      "890         0       3  32.0      0      0   7.7500    man   Queenstown\n",
      "\n",
      "[891 rows x 8 columns]\n"
     ]
    }
   ],
   "source": [
    "# Notebook-spezifische Anpassungen für das src-Modul\n",
    "import sys\n",
    "import os\n",
    "\n",
    "# Füge das src-Verzeichnis zu den Suchpfaden hinzu\n",
    "sys.path.insert(0, os.path.abspath(\"./src\"))\n",
    "\n",
    "# Automatisches Neuladen von Modulen aktivieren\n",
    "%load_ext autoreload\n",
    "%autoreload 2\n",
    "\n",
    "# Module aus src importieren\n",
    "from datenvorbereitung import lade_titanic_daten, bereinige_daten\n",
    "from visualisierungen import plot_alter_klasse, plot_ueberlebensrate\n",
    "from utils import zeige_spalten\n",
    "\n",
    "# Daten laden und vorbereiten\n",
    "df = lade_titanic_daten()\n",
    "df = bereinige_daten(df)\n",
    "\n",
    "# Spalten anzeigen\n",
    "zeige_spalten(df)\n",
    "\n",
    "print(bereinige_daten(df))"
   ]
  }
 ],
 "metadata": {
  "kernelspec": {
   "display_name": "Python 3",
   "language": "python",
   "name": "python3"
  },
  "language_info": {
   "codemirror_mode": {
    "name": "ipython",
    "version": 3
   },
   "file_extension": ".py",
   "mimetype": "text/x-python",
   "name": "python",
   "nbconvert_exporter": "python",
   "pygments_lexer": "ipython3",
   "version": "3.13.2"
  }
 },
 "nbformat": 4,
 "nbformat_minor": 2
}
