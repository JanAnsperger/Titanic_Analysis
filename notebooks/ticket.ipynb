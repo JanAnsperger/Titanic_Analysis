{
 "cells": [
  {
   "cell_type": "code",
   "execution_count": 2,
   "metadata": {},
   "outputs": [],
   "source": [
    "import pandas as pd\n",
    "from IPython.display import display"
   ]
  },
  {
   "cell_type": "code",
   "execution_count": 3,
   "metadata": {},
   "outputs": [
    {
     "data": {
      "text/plain": [
       "0             A/5 21171\n",
       "1              PC 17599\n",
       "2      STON/O2. 3101282\n",
       "3                113803\n",
       "4                373450\n",
       "             ...       \n",
       "886              211536\n",
       "887              112053\n",
       "888          W./C. 6607\n",
       "889              111369\n",
       "890              370376\n",
       "Name: Ticket, Length: 891, dtype: object"
      ]
     },
     "execution_count": 3,
     "metadata": {},
     "output_type": "execute_result"
    }
   ],
   "source": [
    "# Lädt die Daten aus einer CSV-Datei in ein Pandas DataFrame\n",
    "train_titanic = pd.read_csv(r\"C:\\Users\\Admin\\Documents\\Woche_16_10.03.25-14.03.25\\10.03.25\\titanic_analysis\\data\\titanic_kaggle\\train.csv\")\n",
    "\n",
    "train_titanic[\"Ticket\"]"
   ]
  },
  {
   "cell_type": "code",
   "execution_count": 4,
   "metadata": {},
   "outputs": [
    {
     "data": {
      "text/plain": [
       "Ticket\n",
       "347082              7\n",
       "1601                7\n",
       "CA. 2343            7\n",
       "3101295             6\n",
       "CA 2144             6\n",
       "                   ..\n",
       "PC 17590            1\n",
       "17463               1\n",
       "330877              1\n",
       "373450              1\n",
       "STON/O2. 3101282    1\n",
       "Name: count, Length: 681, dtype: int64"
      ]
     },
     "execution_count": 4,
     "metadata": {},
     "output_type": "execute_result"
    }
   ],
   "source": [
    "# Berechnen, wie oft jede Ticketnummer vorkommt\n",
    "ticket_counts = train_titanic[\"Ticket\"].value_counts()\n",
    "\n",
    "ticket_counts"
   ]
  },
  {
   "cell_type": "code",
   "execution_count": 5,
   "metadata": {},
   "outputs": [
    {
     "data": {
      "text/plain": [
       "0      1\n",
       "1      1\n",
       "2      1\n",
       "3      2\n",
       "4      1\n",
       "      ..\n",
       "886    1\n",
       "887    1\n",
       "888    2\n",
       "889    1\n",
       "890    1\n",
       "Name: Passenger_Count, Length: 891, dtype: int64"
      ]
     },
     "execution_count": 5,
     "metadata": {},
     "output_type": "execute_result"
    }
   ],
   "source": [
    "# Füge die Anzahl der Personen pro Ticket als neue Spalte hinzu\n",
    "train_titanic[\"Passenger_Count\"] = train_titanic[\"Ticket\"].map(ticket_counts)\n",
    "\n",
    "train_titanic[\"Passenger_Count\"]"
   ]
  },
  {
   "cell_type": "code",
   "execution_count": 6,
   "metadata": {},
   "outputs": [],
   "source": [
    "# Berechne die Ticketkosten pro Person\n",
    "train_titanic[\"Per_Person_Cost\"] = train_titanic[\"Fare\"] / train_titanic[\"Passenger_Count\"]"
   ]
  },
  {
   "cell_type": "code",
   "execution_count": 7,
   "metadata": {},
   "outputs": [],
   "source": [
    "# Erstelle die gewünschte Tabelle mit den geforderten Spalten\n",
    "ticket_summary = train_titanic[[\"Name\", \"Pclass\", \"Ticket\", \"Fare\", \"Per_Person_Cost\", \"Passenger_Count\", \"Embarked\"]]"
   ]
  },
  {
   "cell_type": "code",
   "execution_count": 8,
   "metadata": {},
   "outputs": [],
   "source": [
    "# Spalten umbenennen für bessere Lesbarkeit\n",
    "ticket_summary = ticket_summary.rename(columns={\"Fare\": \"Total_Fare\"})"
   ]
  },
  {
   "cell_type": "code",
   "execution_count": 9,
   "metadata": {},
   "outputs": [
    {
     "data": {
      "text/html": [
       "<style type=\"text/css\">\n",
       "#T_6e16e_row0_col0, #T_6e16e_row0_col1, #T_6e16e_row0_col2, #T_6e16e_row0_col3, #T_6e16e_row0_col4, #T_6e16e_row0_col5, #T_6e16e_row0_col6, #T_6e16e_row1_col0, #T_6e16e_row1_col1, #T_6e16e_row1_col2, #T_6e16e_row1_col3, #T_6e16e_row1_col4, #T_6e16e_row1_col5, #T_6e16e_row1_col6, #T_6e16e_row2_col0, #T_6e16e_row2_col1, #T_6e16e_row2_col2, #T_6e16e_row2_col3, #T_6e16e_row2_col4, #T_6e16e_row2_col5, #T_6e16e_row2_col6, #T_6e16e_row3_col0, #T_6e16e_row3_col1, #T_6e16e_row3_col2, #T_6e16e_row3_col3, #T_6e16e_row3_col4, #T_6e16e_row3_col5, #T_6e16e_row3_col6, #T_6e16e_row4_col0, #T_6e16e_row4_col1, #T_6e16e_row4_col2, #T_6e16e_row4_col3, #T_6e16e_row4_col4, #T_6e16e_row4_col5, #T_6e16e_row4_col6, #T_6e16e_row5_col0, #T_6e16e_row5_col1, #T_6e16e_row5_col2, #T_6e16e_row5_col3, #T_6e16e_row5_col4, #T_6e16e_row5_col5, #T_6e16e_row5_col6, #T_6e16e_row6_col0, #T_6e16e_row6_col1, #T_6e16e_row6_col2, #T_6e16e_row6_col3, #T_6e16e_row6_col4, #T_6e16e_row6_col5, #T_6e16e_row6_col6, #T_6e16e_row7_col0, #T_6e16e_row7_col1, #T_6e16e_row7_col2, #T_6e16e_row7_col3, #T_6e16e_row7_col4, #T_6e16e_row7_col5, #T_6e16e_row7_col6, #T_6e16e_row8_col0, #T_6e16e_row8_col1, #T_6e16e_row8_col2, #T_6e16e_row8_col3, #T_6e16e_row8_col4, #T_6e16e_row8_col5, #T_6e16e_row8_col6, #T_6e16e_row9_col0, #T_6e16e_row9_col1, #T_6e16e_row9_col2, #T_6e16e_row9_col3, #T_6e16e_row9_col4, #T_6e16e_row9_col5, #T_6e16e_row9_col6 {\n",
       "  text-align: center;\n",
       "}\n",
       "</style>\n",
       "<table id=\"T_6e16e\">\n",
       "  <thead>\n",
       "    <tr>\n",
       "      <th class=\"blank level0\" >&nbsp;</th>\n",
       "      <th id=\"T_6e16e_level0_col0\" class=\"col_heading level0 col0\" >Name</th>\n",
       "      <th id=\"T_6e16e_level0_col1\" class=\"col_heading level0 col1\" >Pclass</th>\n",
       "      <th id=\"T_6e16e_level0_col2\" class=\"col_heading level0 col2\" >Ticket</th>\n",
       "      <th id=\"T_6e16e_level0_col3\" class=\"col_heading level0 col3\" >Total_Fare</th>\n",
       "      <th id=\"T_6e16e_level0_col4\" class=\"col_heading level0 col4\" >Per_Person_Cost</th>\n",
       "      <th id=\"T_6e16e_level0_col5\" class=\"col_heading level0 col5\" >Passenger_Count</th>\n",
       "      <th id=\"T_6e16e_level0_col6\" class=\"col_heading level0 col6\" >Embarked</th>\n",
       "    </tr>\n",
       "  </thead>\n",
       "  <tbody>\n",
       "    <tr>\n",
       "      <th id=\"T_6e16e_level0_row0\" class=\"row_heading level0 row0\" >0</th>\n",
       "      <td id=\"T_6e16e_row0_col0\" class=\"data row0 col0\" >Braund, Mr. Owen Harris</td>\n",
       "      <td id=\"T_6e16e_row0_col1\" class=\"data row0 col1\" >3</td>\n",
       "      <td id=\"T_6e16e_row0_col2\" class=\"data row0 col2\" >A/5 21171</td>\n",
       "      <td id=\"T_6e16e_row0_col3\" class=\"data row0 col3\" >7.25</td>\n",
       "      <td id=\"T_6e16e_row0_col4\" class=\"data row0 col4\" >7.25</td>\n",
       "      <td id=\"T_6e16e_row0_col5\" class=\"data row0 col5\" >1</td>\n",
       "      <td id=\"T_6e16e_row0_col6\" class=\"data row0 col6\" >S</td>\n",
       "    </tr>\n",
       "    <tr>\n",
       "      <th id=\"T_6e16e_level0_row1\" class=\"row_heading level0 row1\" >1</th>\n",
       "      <td id=\"T_6e16e_row1_col0\" class=\"data row1 col0\" >Cumings, Mrs. John Bradley (Florence Briggs Thayer)</td>\n",
       "      <td id=\"T_6e16e_row1_col1\" class=\"data row1 col1\" >1</td>\n",
       "      <td id=\"T_6e16e_row1_col2\" class=\"data row1 col2\" >PC 17599</td>\n",
       "      <td id=\"T_6e16e_row1_col3\" class=\"data row1 col3\" >71.28</td>\n",
       "      <td id=\"T_6e16e_row1_col4\" class=\"data row1 col4\" >71.28</td>\n",
       "      <td id=\"T_6e16e_row1_col5\" class=\"data row1 col5\" >1</td>\n",
       "      <td id=\"T_6e16e_row1_col6\" class=\"data row1 col6\" >C</td>\n",
       "    </tr>\n",
       "    <tr>\n",
       "      <th id=\"T_6e16e_level0_row2\" class=\"row_heading level0 row2\" >2</th>\n",
       "      <td id=\"T_6e16e_row2_col0\" class=\"data row2 col0\" >Heikkinen, Miss. Laina</td>\n",
       "      <td id=\"T_6e16e_row2_col1\" class=\"data row2 col1\" >3</td>\n",
       "      <td id=\"T_6e16e_row2_col2\" class=\"data row2 col2\" >STON/O2. 3101282</td>\n",
       "      <td id=\"T_6e16e_row2_col3\" class=\"data row2 col3\" >7.92</td>\n",
       "      <td id=\"T_6e16e_row2_col4\" class=\"data row2 col4\" >7.92</td>\n",
       "      <td id=\"T_6e16e_row2_col5\" class=\"data row2 col5\" >1</td>\n",
       "      <td id=\"T_6e16e_row2_col6\" class=\"data row2 col6\" >S</td>\n",
       "    </tr>\n",
       "    <tr>\n",
       "      <th id=\"T_6e16e_level0_row3\" class=\"row_heading level0 row3\" >3</th>\n",
       "      <td id=\"T_6e16e_row3_col0\" class=\"data row3 col0\" >Futrelle, Mrs. Jacques Heath (Lily May Peel)</td>\n",
       "      <td id=\"T_6e16e_row3_col1\" class=\"data row3 col1\" >1</td>\n",
       "      <td id=\"T_6e16e_row3_col2\" class=\"data row3 col2\" >113803</td>\n",
       "      <td id=\"T_6e16e_row3_col3\" class=\"data row3 col3\" >53.10</td>\n",
       "      <td id=\"T_6e16e_row3_col4\" class=\"data row3 col4\" >26.55</td>\n",
       "      <td id=\"T_6e16e_row3_col5\" class=\"data row3 col5\" >2</td>\n",
       "      <td id=\"T_6e16e_row3_col6\" class=\"data row3 col6\" >S</td>\n",
       "    </tr>\n",
       "    <tr>\n",
       "      <th id=\"T_6e16e_level0_row4\" class=\"row_heading level0 row4\" >4</th>\n",
       "      <td id=\"T_6e16e_row4_col0\" class=\"data row4 col0\" >Allen, Mr. William Henry</td>\n",
       "      <td id=\"T_6e16e_row4_col1\" class=\"data row4 col1\" >3</td>\n",
       "      <td id=\"T_6e16e_row4_col2\" class=\"data row4 col2\" >373450</td>\n",
       "      <td id=\"T_6e16e_row4_col3\" class=\"data row4 col3\" >8.05</td>\n",
       "      <td id=\"T_6e16e_row4_col4\" class=\"data row4 col4\" >8.05</td>\n",
       "      <td id=\"T_6e16e_row4_col5\" class=\"data row4 col5\" >1</td>\n",
       "      <td id=\"T_6e16e_row4_col6\" class=\"data row4 col6\" >S</td>\n",
       "    </tr>\n",
       "    <tr>\n",
       "      <th id=\"T_6e16e_level0_row5\" class=\"row_heading level0 row5\" >5</th>\n",
       "      <td id=\"T_6e16e_row5_col0\" class=\"data row5 col0\" >Moran, Mr. James</td>\n",
       "      <td id=\"T_6e16e_row5_col1\" class=\"data row5 col1\" >3</td>\n",
       "      <td id=\"T_6e16e_row5_col2\" class=\"data row5 col2\" >330877</td>\n",
       "      <td id=\"T_6e16e_row5_col3\" class=\"data row5 col3\" >8.46</td>\n",
       "      <td id=\"T_6e16e_row5_col4\" class=\"data row5 col4\" >8.46</td>\n",
       "      <td id=\"T_6e16e_row5_col5\" class=\"data row5 col5\" >1</td>\n",
       "      <td id=\"T_6e16e_row5_col6\" class=\"data row5 col6\" >Q</td>\n",
       "    </tr>\n",
       "    <tr>\n",
       "      <th id=\"T_6e16e_level0_row6\" class=\"row_heading level0 row6\" >6</th>\n",
       "      <td id=\"T_6e16e_row6_col0\" class=\"data row6 col0\" >McCarthy, Mr. Timothy J</td>\n",
       "      <td id=\"T_6e16e_row6_col1\" class=\"data row6 col1\" >1</td>\n",
       "      <td id=\"T_6e16e_row6_col2\" class=\"data row6 col2\" >17463</td>\n",
       "      <td id=\"T_6e16e_row6_col3\" class=\"data row6 col3\" >51.86</td>\n",
       "      <td id=\"T_6e16e_row6_col4\" class=\"data row6 col4\" >51.86</td>\n",
       "      <td id=\"T_6e16e_row6_col5\" class=\"data row6 col5\" >1</td>\n",
       "      <td id=\"T_6e16e_row6_col6\" class=\"data row6 col6\" >S</td>\n",
       "    </tr>\n",
       "    <tr>\n",
       "      <th id=\"T_6e16e_level0_row7\" class=\"row_heading level0 row7\" >7</th>\n",
       "      <td id=\"T_6e16e_row7_col0\" class=\"data row7 col0\" >Palsson, Master. Gosta Leonard</td>\n",
       "      <td id=\"T_6e16e_row7_col1\" class=\"data row7 col1\" >3</td>\n",
       "      <td id=\"T_6e16e_row7_col2\" class=\"data row7 col2\" >349909</td>\n",
       "      <td id=\"T_6e16e_row7_col3\" class=\"data row7 col3\" >21.07</td>\n",
       "      <td id=\"T_6e16e_row7_col4\" class=\"data row7 col4\" >5.27</td>\n",
       "      <td id=\"T_6e16e_row7_col5\" class=\"data row7 col5\" >4</td>\n",
       "      <td id=\"T_6e16e_row7_col6\" class=\"data row7 col6\" >S</td>\n",
       "    </tr>\n",
       "    <tr>\n",
       "      <th id=\"T_6e16e_level0_row8\" class=\"row_heading level0 row8\" >8</th>\n",
       "      <td id=\"T_6e16e_row8_col0\" class=\"data row8 col0\" >Johnson, Mrs. Oscar W (Elisabeth Vilhelmina Berg)</td>\n",
       "      <td id=\"T_6e16e_row8_col1\" class=\"data row8 col1\" >3</td>\n",
       "      <td id=\"T_6e16e_row8_col2\" class=\"data row8 col2\" >347742</td>\n",
       "      <td id=\"T_6e16e_row8_col3\" class=\"data row8 col3\" >11.13</td>\n",
       "      <td id=\"T_6e16e_row8_col4\" class=\"data row8 col4\" >3.71</td>\n",
       "      <td id=\"T_6e16e_row8_col5\" class=\"data row8 col5\" >3</td>\n",
       "      <td id=\"T_6e16e_row8_col6\" class=\"data row8 col6\" >S</td>\n",
       "    </tr>\n",
       "    <tr>\n",
       "      <th id=\"T_6e16e_level0_row9\" class=\"row_heading level0 row9\" >9</th>\n",
       "      <td id=\"T_6e16e_row9_col0\" class=\"data row9 col0\" >Nasser, Mrs. Nicholas (Adele Achem)</td>\n",
       "      <td id=\"T_6e16e_row9_col1\" class=\"data row9 col1\" >2</td>\n",
       "      <td id=\"T_6e16e_row9_col2\" class=\"data row9 col2\" >237736</td>\n",
       "      <td id=\"T_6e16e_row9_col3\" class=\"data row9 col3\" >30.07</td>\n",
       "      <td id=\"T_6e16e_row9_col4\" class=\"data row9 col4\" >15.04</td>\n",
       "      <td id=\"T_6e16e_row9_col5\" class=\"data row9 col5\" >2</td>\n",
       "      <td id=\"T_6e16e_row9_col6\" class=\"data row9 col6\" >C</td>\n",
       "    </tr>\n",
       "  </tbody>\n",
       "</table>\n"
      ],
      "text/plain": [
       "<pandas.io.formats.style.Styler at 0x1cd16951d30>"
      ]
     },
     "metadata": {},
     "output_type": "display_data"
    }
   ],
   "source": [
    "# Ergebnis anzeigen\n",
    "display(ticket_summary.head(10).style.format({\"Total_Fare\": \"{:.2f}\", \n",
    "                                              \"Per_Person_Cost\": \"{:.2f}\"}).set_properties(**{'text-align': 'center'}))\n"
   ]
  },
  {
   "cell_type": "code",
   "execution_count": 10,
   "metadata": {},
   "outputs": [
    {
     "data": {
      "text/html": [
       "<style type=\"text/css\">\n",
       "#T_ce3fe_row0_col0, #T_ce3fe_row0_col1, #T_ce3fe_row0_col2, #T_ce3fe_row0_col3, #T_ce3fe_row0_col4, #T_ce3fe_row0_col5, #T_ce3fe_row0_col6, #T_ce3fe_row1_col0, #T_ce3fe_row1_col1, #T_ce3fe_row1_col2, #T_ce3fe_row1_col3, #T_ce3fe_row1_col4, #T_ce3fe_row1_col5, #T_ce3fe_row1_col6, #T_ce3fe_row2_col0, #T_ce3fe_row2_col1, #T_ce3fe_row2_col2, #T_ce3fe_row2_col3, #T_ce3fe_row2_col4, #T_ce3fe_row2_col5, #T_ce3fe_row2_col6, #T_ce3fe_row3_col0, #T_ce3fe_row3_col1, #T_ce3fe_row3_col2, #T_ce3fe_row3_col3, #T_ce3fe_row3_col4, #T_ce3fe_row3_col5, #T_ce3fe_row3_col6, #T_ce3fe_row4_col0, #T_ce3fe_row4_col1, #T_ce3fe_row4_col2, #T_ce3fe_row4_col3, #T_ce3fe_row4_col4, #T_ce3fe_row4_col5, #T_ce3fe_row4_col6, #T_ce3fe_row5_col0, #T_ce3fe_row5_col1, #T_ce3fe_row5_col2, #T_ce3fe_row5_col3, #T_ce3fe_row5_col4, #T_ce3fe_row5_col5, #T_ce3fe_row5_col6, #T_ce3fe_row6_col0, #T_ce3fe_row6_col1, #T_ce3fe_row6_col2, #T_ce3fe_row6_col3, #T_ce3fe_row6_col4, #T_ce3fe_row6_col5, #T_ce3fe_row6_col6, #T_ce3fe_row7_col0, #T_ce3fe_row7_col1, #T_ce3fe_row7_col2, #T_ce3fe_row7_col3, #T_ce3fe_row7_col4, #T_ce3fe_row7_col5, #T_ce3fe_row7_col6, #T_ce3fe_row8_col0, #T_ce3fe_row8_col1, #T_ce3fe_row8_col2, #T_ce3fe_row8_col3, #T_ce3fe_row8_col4, #T_ce3fe_row8_col5, #T_ce3fe_row8_col6, #T_ce3fe_row9_col0, #T_ce3fe_row9_col1, #T_ce3fe_row9_col2, #T_ce3fe_row9_col3, #T_ce3fe_row9_col4, #T_ce3fe_row9_col5, #T_ce3fe_row9_col6 {\n",
       "  text-align: center;\n",
       "}\n",
       "</style>\n",
       "<table id=\"T_ce3fe\">\n",
       "  <thead>\n",
       "    <tr>\n",
       "      <th class=\"blank level0\" >&nbsp;</th>\n",
       "      <th id=\"T_ce3fe_level0_col0\" class=\"col_heading level0 col0\" >Name</th>\n",
       "      <th id=\"T_ce3fe_level0_col1\" class=\"col_heading level0 col1\" >Pclass</th>\n",
       "      <th id=\"T_ce3fe_level0_col2\" class=\"col_heading level0 col2\" >Ticket</th>\n",
       "      <th id=\"T_ce3fe_level0_col3\" class=\"col_heading level0 col3\" >Total_Fare</th>\n",
       "      <th id=\"T_ce3fe_level0_col4\" class=\"col_heading level0 col4\" >Per_Person_Cost</th>\n",
       "      <th id=\"T_ce3fe_level0_col5\" class=\"col_heading level0 col5\" >Passenger_Count</th>\n",
       "      <th id=\"T_ce3fe_level0_col6\" class=\"col_heading level0 col6\" >Embarked</th>\n",
       "    </tr>\n",
       "  </thead>\n",
       "  <tbody>\n",
       "    <tr>\n",
       "      <th id=\"T_ce3fe_level0_row0\" class=\"row_heading level0 row0\" >3</th>\n",
       "      <td id=\"T_ce3fe_row0_col0\" class=\"data row0 col0\" >Futrelle, Mrs. Jacques Heath (Lily May Peel)</td>\n",
       "      <td id=\"T_ce3fe_row0_col1\" class=\"data row0 col1\" >1</td>\n",
       "      <td id=\"T_ce3fe_row0_col2\" class=\"data row0 col2\" >113803</td>\n",
       "      <td id=\"T_ce3fe_row0_col3\" class=\"data row0 col3\" >53.10</td>\n",
       "      <td id=\"T_ce3fe_row0_col4\" class=\"data row0 col4\" >26.55</td>\n",
       "      <td id=\"T_ce3fe_row0_col5\" class=\"data row0 col5\" >2</td>\n",
       "      <td id=\"T_ce3fe_row0_col6\" class=\"data row0 col6\" >S</td>\n",
       "    </tr>\n",
       "    <tr>\n",
       "      <th id=\"T_ce3fe_level0_row1\" class=\"row_heading level0 row1\" >7</th>\n",
       "      <td id=\"T_ce3fe_row1_col0\" class=\"data row1 col0\" >Palsson, Master. Gosta Leonard</td>\n",
       "      <td id=\"T_ce3fe_row1_col1\" class=\"data row1 col1\" >3</td>\n",
       "      <td id=\"T_ce3fe_row1_col2\" class=\"data row1 col2\" >349909</td>\n",
       "      <td id=\"T_ce3fe_row1_col3\" class=\"data row1 col3\" >21.07</td>\n",
       "      <td id=\"T_ce3fe_row1_col4\" class=\"data row1 col4\" >5.27</td>\n",
       "      <td id=\"T_ce3fe_row1_col5\" class=\"data row1 col5\" >4</td>\n",
       "      <td id=\"T_ce3fe_row1_col6\" class=\"data row1 col6\" >S</td>\n",
       "    </tr>\n",
       "    <tr>\n",
       "      <th id=\"T_ce3fe_level0_row2\" class=\"row_heading level0 row2\" >8</th>\n",
       "      <td id=\"T_ce3fe_row2_col0\" class=\"data row2 col0\" >Johnson, Mrs. Oscar W (Elisabeth Vilhelmina Berg)</td>\n",
       "      <td id=\"T_ce3fe_row2_col1\" class=\"data row2 col1\" >3</td>\n",
       "      <td id=\"T_ce3fe_row2_col2\" class=\"data row2 col2\" >347742</td>\n",
       "      <td id=\"T_ce3fe_row2_col3\" class=\"data row2 col3\" >11.13</td>\n",
       "      <td id=\"T_ce3fe_row2_col4\" class=\"data row2 col4\" >3.71</td>\n",
       "      <td id=\"T_ce3fe_row2_col5\" class=\"data row2 col5\" >3</td>\n",
       "      <td id=\"T_ce3fe_row2_col6\" class=\"data row2 col6\" >S</td>\n",
       "    </tr>\n",
       "    <tr>\n",
       "      <th id=\"T_ce3fe_level0_row3\" class=\"row_heading level0 row3\" >9</th>\n",
       "      <td id=\"T_ce3fe_row3_col0\" class=\"data row3 col0\" >Nasser, Mrs. Nicholas (Adele Achem)</td>\n",
       "      <td id=\"T_ce3fe_row3_col1\" class=\"data row3 col1\" >2</td>\n",
       "      <td id=\"T_ce3fe_row3_col2\" class=\"data row3 col2\" >237736</td>\n",
       "      <td id=\"T_ce3fe_row3_col3\" class=\"data row3 col3\" >30.07</td>\n",
       "      <td id=\"T_ce3fe_row3_col4\" class=\"data row3 col4\" >15.04</td>\n",
       "      <td id=\"T_ce3fe_row3_col5\" class=\"data row3 col5\" >2</td>\n",
       "      <td id=\"T_ce3fe_row3_col6\" class=\"data row3 col6\" >C</td>\n",
       "    </tr>\n",
       "    <tr>\n",
       "      <th id=\"T_ce3fe_level0_row4\" class=\"row_heading level0 row4\" >10</th>\n",
       "      <td id=\"T_ce3fe_row4_col0\" class=\"data row4 col0\" >Sandstrom, Miss. Marguerite Rut</td>\n",
       "      <td id=\"T_ce3fe_row4_col1\" class=\"data row4 col1\" >3</td>\n",
       "      <td id=\"T_ce3fe_row4_col2\" class=\"data row4 col2\" >PP 9549</td>\n",
       "      <td id=\"T_ce3fe_row4_col3\" class=\"data row4 col3\" >16.70</td>\n",
       "      <td id=\"T_ce3fe_row4_col4\" class=\"data row4 col4\" >8.35</td>\n",
       "      <td id=\"T_ce3fe_row4_col5\" class=\"data row4 col5\" >2</td>\n",
       "      <td id=\"T_ce3fe_row4_col6\" class=\"data row4 col6\" >S</td>\n",
       "    </tr>\n",
       "    <tr>\n",
       "      <th id=\"T_ce3fe_level0_row5\" class=\"row_heading level0 row5\" >13</th>\n",
       "      <td id=\"T_ce3fe_row5_col0\" class=\"data row5 col0\" >Andersson, Mr. Anders Johan</td>\n",
       "      <td id=\"T_ce3fe_row5_col1\" class=\"data row5 col1\" >3</td>\n",
       "      <td id=\"T_ce3fe_row5_col2\" class=\"data row5 col2\" >347082</td>\n",
       "      <td id=\"T_ce3fe_row5_col3\" class=\"data row5 col3\" >31.27</td>\n",
       "      <td id=\"T_ce3fe_row5_col4\" class=\"data row5 col4\" >4.47</td>\n",
       "      <td id=\"T_ce3fe_row5_col5\" class=\"data row5 col5\" >7</td>\n",
       "      <td id=\"T_ce3fe_row5_col6\" class=\"data row5 col6\" >S</td>\n",
       "    </tr>\n",
       "    <tr>\n",
       "      <th id=\"T_ce3fe_level0_row6\" class=\"row_heading level0 row6\" >16</th>\n",
       "      <td id=\"T_ce3fe_row6_col0\" class=\"data row6 col0\" >Rice, Master. Eugene</td>\n",
       "      <td id=\"T_ce3fe_row6_col1\" class=\"data row6 col1\" >3</td>\n",
       "      <td id=\"T_ce3fe_row6_col2\" class=\"data row6 col2\" >382652</td>\n",
       "      <td id=\"T_ce3fe_row6_col3\" class=\"data row6 col3\" >29.12</td>\n",
       "      <td id=\"T_ce3fe_row6_col4\" class=\"data row6 col4\" >5.83</td>\n",
       "      <td id=\"T_ce3fe_row6_col5\" class=\"data row6 col5\" >5</td>\n",
       "      <td id=\"T_ce3fe_row6_col6\" class=\"data row6 col6\" >Q</td>\n",
       "    </tr>\n",
       "    <tr>\n",
       "      <th id=\"T_ce3fe_level0_row7\" class=\"row_heading level0 row7\" >20</th>\n",
       "      <td id=\"T_ce3fe_row7_col0\" class=\"data row7 col0\" >Fynney, Mr. Joseph J</td>\n",
       "      <td id=\"T_ce3fe_row7_col1\" class=\"data row7 col1\" >2</td>\n",
       "      <td id=\"T_ce3fe_row7_col2\" class=\"data row7 col2\" >239865</td>\n",
       "      <td id=\"T_ce3fe_row7_col3\" class=\"data row7 col3\" >26.00</td>\n",
       "      <td id=\"T_ce3fe_row7_col4\" class=\"data row7 col4\" >13.00</td>\n",
       "      <td id=\"T_ce3fe_row7_col5\" class=\"data row7 col5\" >2</td>\n",
       "      <td id=\"T_ce3fe_row7_col6\" class=\"data row7 col6\" >S</td>\n",
       "    </tr>\n",
       "    <tr>\n",
       "      <th id=\"T_ce3fe_level0_row8\" class=\"row_heading level0 row8\" >24</th>\n",
       "      <td id=\"T_ce3fe_row8_col0\" class=\"data row8 col0\" >Palsson, Miss. Torborg Danira</td>\n",
       "      <td id=\"T_ce3fe_row8_col1\" class=\"data row8 col1\" >3</td>\n",
       "      <td id=\"T_ce3fe_row8_col2\" class=\"data row8 col2\" >349909</td>\n",
       "      <td id=\"T_ce3fe_row8_col3\" class=\"data row8 col3\" >21.07</td>\n",
       "      <td id=\"T_ce3fe_row8_col4\" class=\"data row8 col4\" >5.27</td>\n",
       "      <td id=\"T_ce3fe_row8_col5\" class=\"data row8 col5\" >4</td>\n",
       "      <td id=\"T_ce3fe_row8_col6\" class=\"data row8 col6\" >S</td>\n",
       "    </tr>\n",
       "    <tr>\n",
       "      <th id=\"T_ce3fe_level0_row9\" class=\"row_heading level0 row9\" >25</th>\n",
       "      <td id=\"T_ce3fe_row9_col0\" class=\"data row9 col0\" >Asplund, Mrs. Carl Oscar (Selma Augusta Emilia Johansson)</td>\n",
       "      <td id=\"T_ce3fe_row9_col1\" class=\"data row9 col1\" >3</td>\n",
       "      <td id=\"T_ce3fe_row9_col2\" class=\"data row9 col2\" >347077</td>\n",
       "      <td id=\"T_ce3fe_row9_col3\" class=\"data row9 col3\" >31.39</td>\n",
       "      <td id=\"T_ce3fe_row9_col4\" class=\"data row9 col4\" >7.85</td>\n",
       "      <td id=\"T_ce3fe_row9_col5\" class=\"data row9 col5\" >4</td>\n",
       "      <td id=\"T_ce3fe_row9_col6\" class=\"data row9 col6\" >S</td>\n",
       "    </tr>\n",
       "  </tbody>\n",
       "</table>\n"
      ],
      "text/plain": [
       "<pandas.io.formats.style.Styler at 0x1cd15e6fed0>"
      ]
     },
     "metadata": {},
     "output_type": "display_data"
    }
   ],
   "source": [
    "# 🔥 Filter: Nur Tickets anzeigen, die von mindestens 2 Personen genutzt wurden\n",
    "ticket_summary_filtered = ticket_summary[ticket_summary[\"Passenger_Count\"] >= 2]\n",
    "\n",
    "# Ergebnis ausgeben\n",
    "display(ticket_summary_filtered.head(10).style.format({\"Total_Fare\": \"{:.2f}\", \n",
    "                                                       \"Per_Person_Cost\": \"{:.2f}\"}).set_properties(**{'text-align': 'center'}))"
   ]
  },
  {
   "cell_type": "code",
   "execution_count": 11,
   "metadata": {},
   "outputs": [],
   "source": [
    "# Datei als CSV speichern\n",
    "ticket_summary.to_csv(r\"C:\\Users\\Admin\\Documents\\Woche_16_10.03.25-14.03.25\\10.03.25\\titanic_analysis\\results\\ticket_summary.csv\", index=False)\n",
    "ticket_summary_filtered.to_csv(r\"C:\\Users\\Admin\\Documents\\Woche_16_10.03.25-14.03.25\\10.03.25\\titanic_analysis\\results\\ticket_summary_filtered.csv\", index=False)"
   ]
  }
 ],
 "metadata": {
  "kernelspec": {
   "display_name": "Python 3",
   "language": "python",
   "name": "python3"
  },
  "language_info": {
   "codemirror_mode": {
    "name": "ipython",
    "version": 3
   },
   "file_extension": ".py",
   "mimetype": "text/x-python",
   "name": "python",
   "nbconvert_exporter": "python",
   "pygments_lexer": "ipython3",
   "version": "3.13.2"
  }
 },
 "nbformat": 4,
 "nbformat_minor": 2
}
