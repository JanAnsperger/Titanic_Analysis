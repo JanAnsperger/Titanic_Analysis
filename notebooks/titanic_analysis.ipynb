{
 "cells": [
  {
   "cell_type": "markdown",
   "metadata": {},
   "source": [
    "### 1. Notwendige Bibliotheken importieren"
   ]
  },
  {
   "cell_type": "code",
   "execution_count": null,
   "metadata": {},
   "outputs": [],
   "source": [
    "import pandas as pd\n",
    "import numpy as np\n",
    "import seaborn as sns\n",
    "import matplotlib.pyplot as plt"
   ]
  },
  {
   "cell_type": "markdown",
   "metadata": {},
   "source": [
    "### 2. Titanic-Datensatz laden"
   ]
  },
  {
   "cell_type": "code",
   "execution_count": null,
   "metadata": {},
   "outputs": [],
   "source": [
    "df = sns.load_dataset('titanic')"
   ]
  },
  {
   "cell_type": "markdown",
   "metadata": {},
   "source": [
    "### 3. EDA: Erste Datenübersicht"
   ]
  },
  {
   "cell_type": "code",
   "execution_count": null,
   "metadata": {},
   "outputs": [],
   "source": [
    "df.head(10)"
   ]
  },
  {
   "cell_type": "markdown",
   "metadata": {},
   "source": [
    "#### 4. Describe-Funktion: \n",
    "##### Mit der Funktion lassen wir uns einfach statistische Werte wie Durchschnitt, Standardabweichungen usw. ausgeben"
   ]
  },
  {
   "cell_type": "code",
   "execution_count": null,
   "metadata": {},
   "outputs": [],
   "source": [
    "df.describe()"
   ]
  },
  {
   "cell_type": "markdown",
   "metadata": {},
   "source": [
    "#### 5. .info: Allgemeine Informationen zum Datensatz\n",
    "##### Es zeigt uns welcher Datentyp sich in jeder Spalte verbirgt und wie viele Daten fehlen"
   ]
  },
  {
   "cell_type": "code",
   "execution_count": null,
   "metadata": {},
   "outputs": [],
   "source": [
    "df.info()"
   ]
  },
  {
   "cell_type": "markdown",
   "metadata": {},
   "source": [
    "##### Hier kann man gut erkennen das einige interessante Daten nicht vollständig sind.\n",
    "- 177 Altersangaben (age)\n",
    "- 3 mal eingeschiffte Personen (embarked) sowie die dazu gehörige Stadt (embark_twon) \n",
    "- 688 mal die Decknummer (deck) der Passagiere"
   ]
  },
  {
   "cell_type": "markdown",
   "metadata": {},
   "source": [
    "#### 6. Die vorhanden Daten bereinigen und die Informationen aus dem src ziehen\n",
    "##### Die Daten vor der Bereinigung"
   ]
  },
  {
   "cell_type": "code",
   "execution_count": null,
   "metadata": {},
   "outputs": [],
   "source": [
    "import sys\n",
    "sys.path.append(\"../src\")  # Den Ordner \"src\" zum Python-Pfad hinzufügen\n",
    "\n",
    "from datenvorbereitung import lade_titanic_daten, bereinige_daten, vergleiche_daten\n",
    "\n",
    "# Originaldaten laden\n",
    "df_original = lade_titanic_daten()\n",
    "\n",
    "# Bereinigte Daten erhalten\n",
    "df_bereinigt = bereinige_daten(df_original)\n",
    "\n",
    "# Unterschiede anzeigen\n",
    "vergleiche_daten(df_original, df_bereinigt)\n",
    "\n",
    "# Erste Zeilen ausgeben, um den Vergleich visuell zu überprüfen\n",
    "df_original.head(10)"
   ]
  },
  {
   "cell_type": "markdown",
   "metadata": {},
   "source": [
    "##### Die Daten nach der Bereinigung"
   ]
  },
  {
   "cell_type": "code",
   "execution_count": null,
   "metadata": {},
   "outputs": [],
   "source": [
    "df_bereinigt.head(10)"
   ]
  },
  {
   "cell_type": "markdown",
   "metadata": {},
   "source": [
    "##### Entfernte Spalten und Begründung\n",
    "\n",
    "| **Spalte**      | **Grund für Entfernung** |\n",
    "|----------------|----------------------|\n",
    "| `embark_town`  | Redundant – die Spalte `embarked` enthält bereits die gleiche Information in kompakter Form (C, Q, S). |\n",
    "| `alive`        | Redundant – die Spalte `survived` enthält bereits die Überlebensinformationen (1 = überlebt, 0 = nicht überlebt). |\n",
    "| `deck`         | Viele fehlende Werte – enthält sehr viele `NaN`-Werte, sodass die Information nicht zuverlässig genutzt werden kann. |\n",
    "| `class`        | Redundant – `pclass` enthält bereits die gleiche Information numerisch (1, 2, 3 statt \"First\", \"Second\", \"Third\"). |\n",
    "| `sex`          | Ersetzt `who`, um zwischen Kindern und Erwachsenen zu unterscheiden (\"man\", \"woman\", \"child\"). |\n",
    "| `adult_male`   | Redundant – Diese Information kann bereits aus `who` abgeleitet werden und ist nicht relevant. |\n",
    "| `alone`        | Redundant – Diese Information kann aus `sibsp` (Anzahl Geschwister/Ehepartner) und `parch` (Anzahl Eltern/Kinder) berechnet werden. |"
   ]
  },
  {
   "cell_type": "markdown",
   "metadata": {},
   "source": [
    "#### 7. Überlebensrate auf der Titanic\n",
    "##### Prozentualer Anteil der Überlebenen"
   ]
  },
  {
   "cell_type": "code",
   "execution_count": null,
   "metadata": {},
   "outputs": [],
   "source": [
    "survival_counts = df_bereinigt['survived'].value_counts()\n",
    "survival_rate = (survival_counts[1] / survival_counts.sum()) * 100\n",
    "\n",
    "print(f\"Die Gesamtüberlebensrate beträgt: {survival_rate:.2f}%\")"
   ]
  },
  {
   "cell_type": "markdown",
   "metadata": {},
   "source": [
    "##### ❌ Generelle Überlebensrate (muss überarbeitet werden, daten aus dem src ziehen und diagramm aus dem results laden)"
   ]
  },
  {
   "cell_type": "code",
   "execution_count": null,
   "metadata": {},
   "outputs": [],
   "source": [
    "plt.figure(figsize=(6,4))\n",
    "bars = plt.bar(['Nicht Überlebt', 'Überlebt'], [df_bereinigt['survived'].value_counts()[0], df_bereinigt['survived'].value_counts()[1]], color=['red', 'green'])\n",
    "plt.xticks(['Nicht Überlebt', 'Überlebt'])\n",
    "plt.ylabel(\"Anzahl\")\n",
    "plt.title(\"Überlebensrate\")\n",
    "\n",
    "# Diagramm speichern als PNG\n",
    "plt.savefig(r'C:\\Users\\Admin\\Documents\\Woche_16_10.03.25-14.03.25\\10.03.25\\titanic_analysis\\results\\survival_rate.png')\n",
    "\n",
    "plt.show()\n"
   ]
  },
  {
   "cell_type": "markdown",
   "metadata": {},
   "source": [
    "##### ❌ Visualisierung der Überlebensrate nach Geschlecht (muss überarbeitet werden, daten aus dem src ziehen und diagramm aus dem results laden)"
   ]
  },
  {
   "cell_type": "code",
   "execution_count": null,
   "metadata": {},
   "outputs": [],
   "source": [
    "plt.figure(figsize=(8, 6))\n",
    "plt.bar([\"Mann\", \"Frau\"], [df.groupby(\"sex\")[\"survived\"].mean()[\"male\"],df.groupby(\"sex\")[\"survived\"].mean()[\"female\"]], color= [\"skyblue\",\"violet\"])\n",
    "plt.title('Überlebensrate nach Geschlecht')\n",
    "\n",
    "# Diagramm speichern als PNG\n",
    "plt.savefig(r'C:\\Users\\Admin\\Documents\\Woche_16_10.03.25-14.03.25\\10.03.25\\titanic_analysis\\results\\survival_rate_by_gender.png')\n",
    "\n",
    "# Diagramm schließen\n",
    "plt.show()"
   ]
  },
  {
   "cell_type": "markdown",
   "metadata": {},
   "source": [
    "##### ❌ Visualisierung der Überlebensrate nach Passagierklasse (muss überarbeitet werden, daten aus dem src ziehen und diagramm aus dem results laden)"
   ]
  },
  {
   "cell_type": "code",
   "execution_count": null,
   "metadata": {},
   "outputs": [],
   "source": [
    "plt.figure(figsize=(8, 6))\n",
    "sns.countplot(x='pclass', hue='survived', data=df)\n",
    "plt.title('Überlebensrate nach Passagierklasse')\n",
    "\n",
    "# Diagramm speichern als PNG\n",
    "plt.savefig(r'C:\\Users\\Admin\\Documents\\Woche_16_10.03.25-14.03.25\\10.03.25\\titanic_analysis\\results\\survival_rate_by_class.png')\n",
    "\n",
    "# Diagramm schließen\n",
    "plt.show()"
   ]
  },
  {
   "cell_type": "markdown",
   "metadata": {},
   "source": [
    "##### ❌ Visualisierung der Überlebensrate nach Alter (muss überarbeitet werden, daten aus dem src ziehen und diagramm aus dem results laden)"
   ]
  },
  {
   "cell_type": "code",
   "execution_count": null,
   "metadata": {},
   "outputs": [],
   "source": [
    "plt.figure(figsize=(8, 6))\n",
    "sns.histplot(df[df['survived'] == 1]['age'], kde=True, color='green', label='Überlebt', stat='density')\n",
    "sns.histplot(df[df['survived'] == 0]['age'], kde=True, color='red', label='Nicht überlebt', stat='density')\n",
    "plt.title('Überlebensrate nach Alter')\n",
    "plt.xlabel('Alter')\n",
    "plt.ylabel('Dichte')\n",
    "plt.legend()\n",
    "\n",
    "# Diagramm speichern als PNG\n",
    "plt.savefig(r'C:\\Users\\Admin\\Documents\\Woche_16_10.03.25-14.03.25\\10.03.25\\titanic_analysis\\results\\/survival_rate_by_age.png')\n",
    "\n",
    "# Diagramm schließen\n",
    "plt.show()"
   ]
  },
  {
   "cell_type": "code",
   "execution_count": null,
   "metadata": {},
   "outputs": [],
   "source": [
    "grouped_alive_df = df_bereinigt.groupby(['pclass'])['survived'].count()\n",
    "                          # (array([0, 1, 2, 3, 4, 5]),\n",
    "                          #  [Text(0, 0, '(1, 0)'),\n",
    "                          #   Text(1, 0, '(1, 1)'),\n",
    "                          #   Text(2, 0, '(2, 0)'),\n",
    "                          #   Text(3, 0, '(2, 1)'),\n",
    "                          #   Text(4, 0, '(3, 0)'),\n",
    "                          #   Text(5, 0, '(3, 1)')])\n",
    "# grouped_alive_df = df.groupby(['survived', 'pclass'])['pclass'].count().unstack()\n",
    "                  # (array([0, 1, 2]), [Text(0, 0, '1'), Text(1, 0, '2'), Text(2, 0, '3')])\n",
    "grouped_alive_df.plot(kind=\"pie\", colors=['yellow', 'grey', 'orange'], figsize=(20,12), subplots=True, shadow=True);\n",
    "plt.title('Überlebende nach Passagierklassen', fontsize=22)\n",
    "plt.xlabel('Passagierklassen', fontsize=22)\n",
    "plt.ylabel(ylabel='Anzahl', loc='center', fontsize=22, rotation=0)\n",
    "# plt.tick_params(axis='y')\n",
    "plt.xticks(rotation=0)\n",
    "plt.yticks(rotation=0);\n",
    "plt.legend(['1', '2', '3'])\n",
    "# (array([0, 1, 2]), [Text(0, 0, '1'), Text(1, 0, '2'), Text(2, 0, '3')])"
   ]
  },
  {
   "cell_type": "code",
   "execution_count": null,
   "metadata": {},
   "outputs": [
    {
     "data": {
      "image/png": "[encoded data removed]",
      "text/plain": [
       "<Figure size 1000x600 with 1 Axes>"
      ]
     },
     "metadata": {},
     "output_type": "display_data"
    }
   ],
   "source": [
    "import matplotlib.pyplot as plt\n",
    "\n",
    "# Gruppierung nach Passagierklasse und Summe der Überlebenden\n",
    "grouped_alive_df = df_bereinigt.groupby('pclass')['survived'].sum()\n",
    "\n",
    "# Erstellen des Kreisdiagramms\n",
    "plt.figure(figsize=(10, 6))\n",
    "grouped_alive_df.plot(kind=\"pie\", colors=['yellow', 'grey', 'orange'], shadow=True, autopct='%1.1f%%')\n",
    "\n",
    "# Titel und Labels\n",
    "plt.title('Überlebende nach Passagierklassen', fontsize=22)\n",
    "plt.ylabel('')  # Entfernt die Y-Achsenbeschriftung, da sie bei einem Kreisdiagramm unnötig ist\n",
    "plt.legend(title='Passagierklasse', labels=['1. Klasse', '2. Klasse', '3. Klasse'])\n",
    "\n",
    "# Diagramm anzeigen\n",
    "plt.show()"
   ]
  }
 ],
 "metadata": {
  "kernelspec": {
   "display_name": "Python 3",
   "language": "python",
   "name": "python3"
  },
  "language_info": {
   "codemirror_mode": {
    "name": "ipython",
    "version": 3
   },
   "file_extension": ".py",
   "mimetype": "text/x-python",
   "name": "python",
   "nbconvert_exporter": "python",
   "pygments_lexer": "ipython3",
   "version": "3.13.2"
  }
 },
 "nbformat": 4,
 "nbformat_minor": 2
}
